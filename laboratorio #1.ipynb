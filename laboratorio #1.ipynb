{
 "cells": [
  {
   "cell_type": "markdown",
   "id": "c224d019",
   "metadata": {},
   "source": [
    "Laboratorio #1\n",
    "\n",
    "Jhon Alex Salazar Rojas \n",
    "\n",
    "Zarina Ayelen Fuentes De Avila \n",
    "\n",
    "Laura Jimena Botero Sierra"
   ]
  },
  {
   "cell_type": "markdown",
   "id": "4196fdb3",
   "metadata": {},
   "source": [
    "Punto A:\n",
    "\n",
    "En Python, las funciones se definen con la palabra clave def. Una función es un bloque de código que se ejecuta cuando se \"llama\", y sirve para reutilizar instrucciones sin tener que escribirlas varias veces. \n",
    "\n",
    "def nombre_funcion(parámetros):\n",
    "    # Instrucciones\n",
    "    return valor  # (opcional)\n",
    "\n",
    "\n",
    "def → indica el inicio de la definición de la función.\n",
    "\n",
    "nombre_funcion → nombre que identifica a la función.\n",
    "\n",
    "parámetros → valores que recibe la función (pueden no existir).\n",
    "\n",
    "return → devuelve un resultado (opcional)."
   ]
  },
  {
   "cell_type": "code",
   "execution_count": 19,
   "id": "9f9283dc",
   "metadata": {},
   "outputs": [
    {
     "name": "stdout",
     "output_type": "stream",
     "text": [
      "Hola, bienvenido al programa de funciones en Python\n",
      "Hola Laura, ¡qué gusto verte!\n",
      "La suma es: 12\n",
      "Adiós, invitado. ¡Vuelve pronto!\n",
      "Adiós, Juan. ¡Vuelve pronto!\n",
      "El cuadrado de 4 es: 16\n"
     ]
    }
   ],
   "source": [
    "#Ejemplo \n",
    "\n",
    "# 1. Función sin parámetros ni retorno\n",
    "def saludar():\n",
    "    print(\"Hola, bienvenido al programa de funciones en Python\")\n",
    "\n",
    "# 2. Función con parámetros\n",
    "def saludar_persona(nombre):\n",
    "    print(f\"Hola {nombre}, ¡qué gusto verte!\")\n",
    "\n",
    "# 3. Función que devuelve un valor\n",
    "def sumar(a, b):\n",
    "    return a + b\n",
    "\n",
    "# 4. Función con parámetro por defecto\n",
    "def despedir(nombre=\"invitado\"):\n",
    "    print(f\"Adiós, {nombre}. ¡Vuelve pronto!\")\n",
    "\n",
    "# 5. Función matemática (ejemplo de f(x) = x²)\n",
    "def cuadrado(x):\n",
    "    return x * x\n",
    "\n",
    "# -----------------------------\n",
    "# Llamando a todas las funciones\n",
    "# -----------------------------\n",
    "\n",
    "saludar()                               # sin parámetros\n",
    "saludar_persona(\"Laura\")                # con parámetro\n",
    "print(\"La suma es:\", sumar(5, 7))       # con retorno\n",
    "despedir()                              # con parámetro por defecto\n",
    "despedir(\"Juan\")                        # sobreescribiendo valor por defecto\n",
    "print(\"El cuadrado de 4 es:\", cuadrado(4))  # función matemática"
   ]
  },
  {
   "cell_type": "markdown",
   "id": "6faca038",
   "metadata": {},
   "source": [
    "Punto B:"
   ]
  },
  {
   "cell_type": "code",
   "execution_count": null,
   "id": "5b78bb6e",
   "metadata": {},
   "outputs": [
    {
     "name": "stdout",
     "output_type": "stream",
     "text": [
      "El resultado es:  5.0\n"
     ]
    }
   ],
   "source": [
    "def calculadora ():\n",
    "    num1= int(input(\"Ingrese el primer numero: \"))\n",
    "    num2= int(input(\"Ingrese el segundo numero: \"))\n",
    "    opr= str(input (\"Ingrese la operacion que desea realizar (+,-,*,/,%): \"))\n",
    "    if opr == \"+\":\n",
    "        rslt= num1 + num2\n",
    "    elif opr==\"-\":\n",
    "        rslt= num1 - num2\n",
    "    elif opr==\"*\":\n",
    "        rslt= num1 * num2\n",
    "    elif opr==\"/\":\n",
    "        if num2== 0:\n",
    "            rslt= (\"No se puede dividir entre 0.\")\n",
    "        else:\n",
    "            rslt= num1/num2\n",
    "    elif opr ==\"%\":\n",
    "        rslt= num1 % num2\n",
    "    print(\"El resultado es: \", rslt)\n",
    "\n",
    "calculadora()"
   ]
  },
  {
   "cell_type": "markdown",
   "id": "e1d81b0a",
   "metadata": {},
   "source": [
    "Punto C:"
   ]
  },
  {
   "cell_type": "code",
   "execution_count": null,
   "id": "b92e3696",
   "metadata": {},
   "outputs": [
    {
     "name": "stdout",
     "output_type": "stream",
     "text": [
      "La matriz ingresada es: \n",
      " [[1. 2. 3.]\n",
      " [4. 5. 6.]\n",
      " [7. 8. 9.]]\n",
      "La transpuesta de la matriz es: \n",
      " [[1. 4. 7.]\n",
      " [2. 5. 8.]\n",
      " [3. 6. 9.]]\n"
     ]
    }
   ],
   "source": [
    "import numpy as np\n",
    "n=int(input(\"Ingrese el parametro del tamaño de la matriz cuadrada: \"))\n",
    "matriz=np.zeros((n, n), dtype=float)  \n",
    "for i in range(n):\n",
    "    for j in range(n):\n",
    "        valor=float(input(f\"Ingrese el dato para la Fila ({i+1}), Columna ({j+1}): \"))\n",
    "        matriz[i,j]=valor\n",
    "print(\"La matriz ingresada es: \\n\",  matriz)\n",
    "transpuesta=matriz.T\n",
    "print(\"La transpuesta de la matriz es: \\n\", transpuesta )\n",
    "\n"
   ]
  },
  {
   "cell_type": "markdown",
   "id": "39c084f6",
   "metadata": {},
   "source": [
    "Punto D:"
   ]
  },
  {
   "cell_type": "code",
   "execution_count": 18,
   "id": "09f9a1b7",
   "metadata": {},
   "outputs": [
    {
     "name": "stdout",
     "output_type": "stream",
     "text": [
      "En este dia de  febrero estariamos en invierno\n"
     ]
    }
   ],
   "source": [
    "dia=int(input(\"ingrese un dia: \"))\n",
    "mes=str(input(\"Ingrese un mes: \").lower())\n",
    "\n",
    "if mes==\"marzo\" and dia>=21 and dia<=31:\n",
    "  print (\"En este dia de \", mes,\"estariamos en primavera\")\n",
    "elif mes==\"abril\" and dia>=1 and dia<=30:\n",
    "  print (\"En este dia de \", mes,\"estariamos en primavera\")\n",
    "elif mes==\"mayo\" and dia>=1 and dia<=31:\n",
    "  print (\"En este dia de \", mes,\"estariamos en primavera\")\n",
    "elif mes==\"junio\" and dia>=1 and dia<=21:\n",
    "  print (\"En este dia de \", mes,\"estariamos en primavera\")\n",
    "elif mes==\"junio\" and dia>=22 and dia<=30:\n",
    "  print (\"En este dia de \", mes,\"estariamos en verano\")\n",
    "elif mes==\"julio\" and dia>=1 and dia<=31:\n",
    "  print (\"En este dia de \", mes,\"estariamos en verano\")\n",
    "elif mes==\"agosto\" and dia>=1 and dia<=30:\n",
    "  print (\"En este dia de \", mes,\"estariamos en verano\")\n",
    "elif mes==\"septiempre\" and dia>=1 and dia<=23:\n",
    "  print (\"En este dia de \", mes,\"estariamos en verano\")\n",
    "elif mes==\"septiempre\" and dia>=24 and dia<=30:\n",
    "  print (\"En este dia de \", mes,\"estariamos en otoño\")\n",
    "elif mes==\"octubre\" and dia>=1 and dia<=31:\n",
    "  print (\"En este dia de \", mes,\"estariamos en otoño\")\n",
    "elif mes==\"noviembre\" and dia>=1 and dia<=30:\n",
    "  print (\"En este dia de \", mes,\"estariamos en otoño\")\n",
    "elif mes==\"diciembre\" and dia>=1 and dia<=22:\n",
    "  print (\"En este dia de \", mes,\"estariamos en otoño\")\n",
    "elif mes==\"diciembre\" and dia>=22 and dia<=31:\n",
    "  print (\"En este dia de \", mes,\"estariamos en invierno\")\n",
    "elif mes==\"enero\" and dia>=1 and dia<=31:\n",
    "  print (\"En este dia de \", mes,\"estariamos en invierno\")\n",
    "elif mes==\"febrero\" and dia>=1 and dia<=28:\n",
    "  print (\"En este dia de \", mes,\"estariamos en invierno\")\n",
    "elif mes==\"marzo\" and dia>=21 and dia<=31:\n",
    "  print (\"En este dia de \", mes,\"estariamos en invierno\")\n",
    "else:\n",
    "    print(\"Ingrese un mes o dia valido\")"
   ]
  },
  {
   "cell_type": "markdown",
   "id": "d3957f82",
   "metadata": {},
   "source": [
    "Punto E:"
   ]
  },
  {
   "cell_type": "code",
   "execution_count": 20,
   "id": "8e600fd0",
   "metadata": {},
   "outputs": [
    {
     "name": "stdout",
     "output_type": "stream",
     "text": [
      "\n",
      " Ingrese los elementos de la matriz: \n",
      "\n",
      " Matriz Ingresada: \n",
      " [[1 2 3]\n",
      " [4 5 6]]\n",
      "\n",
      " Matriz Aleatoria: \n",
      " [[9 8 9]\n",
      " [6 3 2]]\n",
      "\n",
      " Suma de ambas: \n",
      " [[10 10 12]\n",
      " [10  8  8]]\n"
     ]
    }
   ],
   "source": [
    "import numpy as np\n",
    "\n",
    "filas=int(input(\"Ingrese el numero de filas: \"))\n",
    "columnas=int(input(\"Ingrese el numero de columnas: \"))\n",
    "print(\"\\n Ingrese los elementos de la matriz: \")\n",
    "\n",
    "\n",
    "\n",
    "matriz_usuario=[]\n",
    "for i in range(filas):\n",
    "    fila=[]\n",
    "    for j in range(columnas):\n",
    "        valor=int(input(f\"Elemento [{i+1},{i+j}]: \"))\n",
    "        fila.append(valor)\n",
    "    matriz_usuario.append(fila)\n",
    "\n",
    "matriz_usuario=np.array(matriz_usuario)\n",
    "\n",
    "matriz_aleatoria=np.random.randint(0,10, (filas, columnas))\n",
    "resultado=matriz_aleatoria + matriz_usuario\n",
    "\n",
    "print(\"\\n Matriz Ingresada: \\n\", matriz_usuario)\n",
    "print(\"\\n Matriz Aleatoria: \\n\", matriz_aleatoria)\n",
    "print(\"\\n Suma de ambas: \\n\", resultado)"
   ]
  },
  {
   "cell_type": "markdown",
   "id": "b3e22ad0",
   "metadata": {},
   "source": [
    "Punto F:"
   ]
  },
  {
   "cell_type": "code",
   "execution_count": 1,
   "id": "6f5797c5",
   "metadata": {},
   "outputs": [
    {
     "name": "stdout",
     "output_type": "stream",
     "text": [
      "\n",
      "Diccionario de Frecuencias: \n",
      "{'comida': 4, 'maluca': 2, 'y': 3, 'meseras': 3, 'lindas': 1, 'linda': 1, 'mas': 2, 'desagradable': 1, 'buenisima': 1, 'aun': 1, 'mejor': 1}\n",
      "\n",
      " Las 3 palabras más frecuentes en las reseñas son:\n",
      "comida aparece 4 veces\n",
      "y aparece 3 veces\n",
      "meseras aparece 3 veces\n"
     ]
    }
   ],
   "source": [
    "reseñas=[]\n",
    "\n",
    "\n",
    "while True:\n",
    "    reseña=input(\"Escribe una reseña: \")\n",
    "\n",
    "    if reseña.lower() == \"fin\": \n",
    "        if len(reseñas) >= 3: \n",
    "            break\n",
    "        else: \n",
    "            print(\"Debe ingresar minimo 3 reseñas para terminar.\")\n",
    "    else:\n",
    "        reseñas.append(reseña)\n",
    "\n",
    "\n",
    "import string \n",
    "\n",
    "palabras=[]\n",
    "\n",
    "for reseña in reseñas:\n",
    "    reseña=reseña.lower()\n",
    "    for signo in \".!,?\":\n",
    "        reseña=reseña.replace(signo,\"\")\n",
    "    palabras.extend(reseña.split())\n",
    "\n",
    "frecuencias={}\n",
    "for palabra in palabras:\n",
    "    if palabra in frecuencias:\n",
    "        frecuencias[palabra] += 1\n",
    "    else:\n",
    "        frecuencias[palabra] = 1\n",
    "\n",
    "\n",
    "print(\"\\nDiccionario de Frecuencias: \")\n",
    "print(frecuencias)\n",
    "\n",
    "mas_frecuentes = sorted(frecuencias.items(), key=lambda x: x[1], reverse=True)[:3]\n",
    "print(\"\\n Las 3 palabras más frecuentes en las reseñas son:\")\n",
    "for palabra, freq in mas_frecuentes:\n",
    "    print(f\"{palabra} aparece {freq} veces\")"
   ]
  }
 ],
 "metadata": {
  "kernelspec": {
   "display_name": "Python 3",
   "language": "python",
   "name": "python3"
  },
  "language_info": {
   "codemirror_mode": {
    "name": "ipython",
    "version": 3
   },
   "file_extension": ".py",
   "mimetype": "text/x-python",
   "name": "python",
   "nbconvert_exporter": "python",
   "pygments_lexer": "ipython3",
   "version": "3.11.9"
  }
 },
 "nbformat": 4,
 "nbformat_minor": 5
}
